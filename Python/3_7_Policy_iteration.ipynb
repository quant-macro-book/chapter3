{
 "cells": [
  {
   "cell_type": "markdown",
   "metadata": {},
   "source": [
    "# 北尾早霧・砂川武貴・山田知明『定量的マクロ経済学と数値計算』日本評論社\n",
    "## 第3章：動的計画法\n",
    "* DPを**Howard's Improvement Algorithm （Policy Function Iteration）**で解く"
   ]
  },
  {
   "cell_type": "code",
   "execution_count": 1,
   "metadata": {},
   "outputs": [],
   "source": [
    "import numpy as np\n",
    "from scipy.interpolate import interp1d\n",
    "from scipy.optimize import fmin, golden\n",
    "import matplotlib.pyplot as plt\n",
    "import japanize_matplotlib\n",
    "import time"
   ]
  },
  {
   "cell_type": "markdown",
   "metadata": {},
   "source": [
    "### カリブレーション\n",
    "* パラメータをひとつの変数にまとめる：classを使う"
   ]
  },
  {
   "cell_type": "code",
   "execution_count": 2,
   "metadata": {},
   "outputs": [],
   "source": [
    "class Params:\n",
    "    def __init__(self,β,γ,α,δ,nk,kmax,kmin,kgrid,maxit,tol):\n",
    "        # パラメータ\n",
    "        self.β = β         # 割引因子\n",
    "        self.γ = γ         # 相対的危険回避度\n",
    "        self.α = α         # 資本分配率 \n",
    "        self.δ = δ         # 固定資本減耗\n",
    "        \n",
    "        # グリッド\n",
    "        self.nk = nk       # 資本のグリッド数\n",
    "        self.kmax = kmax   # 資本グリッドの最大値\n",
    "        self.kmin = kmin   # 資本グリッドの最小値\n",
    "        self.kgrid = kgrid # 資本グリッド\n",
    "\n",
    "        # 繰り返し計算\n",
    "        self.maxit = maxit # 繰り返し計算の最大値\n",
    "        self.tol = tol     # 計算誤差の許容値(tolerance of error)"
   ]
  },
  {
   "cell_type": "code",
   "execution_count": 3,
   "metadata": {},
   "outputs": [],
   "source": [
    "def calibration():\n",
    "\n",
    "    β = 0.96\n",
    "    γ = 1.0\n",
    "    α = 0.4\n",
    "    δ = 1.0 # 0.08\n",
    "\n",
    "    nk = 101\n",
    "    kmax = 0.5 # 固定資本減耗が0.08の場合、ここを10.0にする\n",
    "    kmin = 0.05\n",
    "\n",
    "    # numpyで等分グリッドを計算\n",
    "    kgrid = np.linspace(kmin,kmax,nk)\n",
    "\n",
    "    maxit = 1000\n",
    "    tol = 1e-5 # 2.収束の基準を設定\n",
    "\n",
    "    return Params(β, γ, α, δ, nk, kmax, kmin, kgrid, maxit, tol)"
   ]
  },
  {
   "cell_type": "code",
   "execution_count": 4,
   "metadata": {},
   "outputs": [],
   "source": [
    "params = calibration()"
   ]
  },
  {
   "cell_type": "markdown",
   "metadata": {},
   "source": [
    "---"
   ]
  },
  {
   "cell_type": "markdown",
   "metadata": {},
   "source": [
    "## 経済学でよく使う関数"
   ]
  },
  {
   "cell_type": "code",
   "execution_count": 5,
   "metadata": {},
   "outputs": [],
   "source": [
    "import MyEconFcn"
   ]
  },
  {
   "cell_type": "markdown",
   "metadata": {},
   "source": [
    "---"
   ]
  },
  {
   "cell_type": "markdown",
   "metadata": {},
   "source": [
    "## 政策関数を当て推量\n",
    "* アルゴリズム\n",
    "    1. 適当に政策関数を当て推量する\n",
    "    2. その政策関数を使い続けた場合の価値関数を計算する\n",
    "        * 最適化のステップは不要\n",
    "        * とりあえず1000回繰り返し計算をしておく\n",
    "    3. 得られた価値関数の下での最適な政策関数を計算\n",
    "    4. 得られた新しい政策関数を使って価値関数を計算し直す\n",
    "        * 上記のステップ2と同じ\n",
    "    5. 価値関数が収束するまで以上を繰り返す"
   ]
  },
  {
   "cell_type": "code",
   "execution_count": 7,
   "metadata": {},
   "outputs": [],
   "source": [
    "# 政策関数の当て推量：総資源の半分を使い続ける\n",
    "pfcn0 = 0.5*(params.kgrid**params.α + (1-params.δ)*params.kgrid)"
   ]
  },
  {
   "cell_type": "code",
   "execution_count": 8,
   "metadata": {},
   "outputs": [],
   "source": [
    "def BellmanEq1(params,wealth,kprime,vnext):\n",
    "    \"\"\"\n",
    "    ----------------------------------------------\n",
    "    === k'を1つ与えた際にベルマン方程式の値を返す ===\n",
    "    ----------------------------------------------\n",
    "    <input>\n",
    "    ・params: パラメータなどを含む構造体\n",
    "    ・wealth: 今期利用可能な資産\n",
    "    ・kprime: 次期の資本量\n",
    "    ・vnext: スプライン補間した次期の価値関数\n",
    "    <output>\n",
    "    ・value: \"正値のままの\"ベルマン方程式\n",
    "    \"\"\"\n",
    "    value = MyEconFcn.crra((wealth - kprime), params.γ) + params.β*vnext(kprime)\n",
    "    return value"
   ]
  },
  {
   "cell_type": "code",
   "execution_count": 11,
   "metadata": {},
   "outputs": [],
   "source": [
    "vfcn0 = np.zeros(params.nk)\n",
    "vfcn1 = np.zeros(params.nk)\n",
    "\n",
    "# 利用可能な資産をあらかじめ計算しておく\n",
    "wealth = params.kgrid**params.α + (1-params.δ)*params.kgrid\n",
    "\n",
    "for j in range(1000):\n",
    "    vnext = interp1d(params.kgrid,vfcn0,kind=\"cubic\",fill_value=\"extrapolate\")\n",
    "    for i in range(params.nk):\n",
    "        # ずっとpfcn0を使い続ける\n",
    "        vfcn1[i] = BellmanEq1(params, wealth[i], pfcn0[i], vnext)\n",
    "\n",
    "    vfcn0 = np.copy(vfcn1)"
   ]
  },
  {
   "cell_type": "code",
   "execution_count": 15,
   "metadata": {},
   "outputs": [
    {
     "data": {
      "image/png": "[encoded data removed]",
      "text/plain": [
       "<Figure size 576x432 with 1 Axes>"
      ]
     },
     "metadata": {
      "needs_background": "light"
     },
     "output_type": "display_data"
    }
   ],
   "source": [
    "fig, ax = plt.subplots(figsize=(8,6))\n",
    "ax.plot(params.kgrid,vfcn0)\n",
    "ax.grid(ls=\"--\")\n",
    "plt.show()"
   ]
  },
  {
   "cell_type": "code",
   "execution_count": 16,
   "metadata": {},
   "outputs": [],
   "source": [
    "def IterateValue(num_it,params,policy):\n",
    "    \"\"\"\n",
    "    ----------------------------------------------\n",
    "    === k'を1つ与えた際にベルマン方程式の値を返す ===\n",
    "    ----------------------------------------------\n",
    "    <input>\n",
    "    ・num_it: 繰り返し計算の回数\n",
    "    ・params: パラメータなどを含む構造体\n",
    "    ・policy: 所与の政策関数\n",
    "    <output>\n",
    "    ・vfcn0: 任意の政策関数を使い続けた際の価値関数\n",
    "    \"\"\"\n",
    "\n",
    "    vfcn0 = np.zeros(params.nk)\n",
    "    vfcn1 = np.zeros(params.nk)\n",
    "    wealth = params.kgrid**params.α + (1-params.δ)*params.kgrid # 関数の外に出したほうが計算速度はアップ\n",
    "\n",
    "    for j in range(num_it):\n",
    "        vnext = interp1d(params.kgrid,vfcn0,kind=\"cubic\",fill_value=\"extrapolate\")\n",
    "        for i in range(params.nk):\n",
    "            # ずっと同じpolicyを使い続ける\n",
    "            vfcn1[i] = BellmanEq1(params, wealth[i], policy[i], vnext)    \n",
    "        vfcn0 = np.copy(vfcn1)\n",
    "    \n",
    "    return vfcn0"
   ]
  },
  {
   "cell_type": "code",
   "execution_count": 17,
   "metadata": {},
   "outputs": [],
   "source": [
    "vfcn0 = IterateValue(1000, params, pfcn0);"
   ]
  },
  {
   "cell_type": "markdown",
   "metadata": {},
   "source": [
    "---"
   ]
  },
  {
   "cell_type": "markdown",
   "metadata": {},
   "source": [
    "## 最適化によって政策関数をアップデート"
   ]
  },
  {
   "cell_type": "code",
   "execution_count": 19,
   "metadata": {},
   "outputs": [],
   "source": [
    "def BellmanEq2(params,wealth,kprime,vnext):\n",
    "    \"\"\"\n",
    "    ----------------------------------------------\n",
    "    === k'を1つ与えた際にベルマン方程式の値を返す ===\n",
    "    ----------------------------------------------\n",
    "    <input>\n",
    "    ・params: パラメータなどを含む構造体\n",
    "    ・wealth: 今期利用可能な資産\n",
    "    ・kprime: 次期の資本量\n",
    "    ・vnext: スプライン補間した次期の価値関数\n",
    "    <output>\n",
    "    ・value: 負値にしたベルマン方程式\n",
    "    \"\"\"\n",
    "    value = MyEconFcn.crra((wealth - kprime), params.γ) + params.β*vnext(kprime)\n",
    "    value = -1*value\n",
    "    \n",
    "    return value"
   ]
  },
  {
   "cell_type": "code",
   "execution_count": 25,
   "metadata": {},
   "outputs": [],
   "source": [
    "# 再計算\n",
    "pfcn0 = 0.5*(params.kgrid**params.α + (1-params.δ)*params.kgrid)\n",
    "pfcn1 = np.zeros(params.nk)\n",
    "vfcn0 = IterateValue(1000, params, pfcn0)\n",
    "vfcn1 = np.zeros(params.nk)"
   ]
  },
  {
   "cell_type": "code",
   "execution_count": 36,
   "metadata": {},
   "outputs": [
    {
     "name": "stdout",
     "output_type": "stream",
     "text": [
      "iteration counter: 1\n",
      "error (value): 0.000000\n",
      "error (policy): 0.232001\n",
      "\n"
     ]
    }
   ],
   "source": [
    "# 価値関数を繰り返し計算\n",
    "for it in range(params.maxit):\n",
    "\n",
    "    # 次期の価値関数を補間\n",
    "    vnext = interp1d(params.kgrid,vfcn0,kind=\"cubic\",fill_value=\"extrapolate\") # スプライン補間\n",
    "\n",
    "    for i in range(params.nk):\n",
    "\n",
    "        BellmanEq = lambda kprime: BellmanEq2(params, wealth[i], kprime, vnext)\n",
    "        pfcn1[i] = golden(BellmanEq,brack=(0.0,wealth[i]-1e-10)) # 最適化\n",
    "    \n",
    "    # 新たな政策関数を使って価値関数をアップデート\n",
    "    vfcn1 = IterateValue(1000, params, pfcn1)\n",
    "\n",
    "    dif1 = np.max(np.abs((vfcn1 - vfcn0)/vfcn0)) # 価値関数の繰り返し計算誤差\n",
    "    dif2 = np.max(np.abs((pfcn1 - pfcn0)/pfcn0)) # 政策関数の繰り返し計算誤差(図示のため)\n",
    "\n",
    "    vfcn0 = np.copy(vfcn1)\n",
    "    pfcn0 = np.copy(pfcn1)\n",
    "\n",
    "    print(f\"iteration counter: {it+1}\")\n",
    "    print(f\"error (value): {dif1:.6f}\")\n",
    "    print(f\"error (policy): {dif2:.6f}\")\n",
    "    print(\"\")\n",
    "\n",
    "    if dif1 < params.tol:\n",
    "        break\n",
    "\n",
    "    if it == params.maxit-1:\n",
    "        print(\"The model does not converge...\")"
   ]
  },
  {
   "cell_type": "markdown",
   "metadata": {},
   "source": [
    "---"
   ]
  },
  {
   "cell_type": "markdown",
   "metadata": {},
   "source": [
    "## PFI\n",
    "* 上記の説明をまとめて関数化"
   ]
  },
  {
   "cell_type": "code",
   "execution_count": 37,
   "metadata": {},
   "outputs": [],
   "source": [
    "# 政策関数の当て推量\n",
    "pfcn0 = 0.5*(params.kgrid**params.α + (1-params.δ)*params.kgrid)\n",
    "\n",
    "# 当て推量の下での価値関数\n",
    "vfcn0 = IterateValue(1000, params, pfcn0)\n",
    "\n",
    "# 価値関数・政策関数を初期化\n",
    "pfcn1 = np.zeros(params.nk)\n",
    "vfcn1 = np.zeros(params.nk)"
   ]
  },
  {
   "cell_type": "code",
   "execution_count": 40,
   "metadata": {},
   "outputs": [],
   "source": [
    "def pfi(params):\n",
    "    \"\"\"\n",
    "    ----------------------------------------------------------------------------------------\n",
    "    === 状態変数のみ離散化して操作変数は連続的に値を取る場合の動的計画法(parametric DP)の解法. ===\n",
    "        アルゴリズムの詳細は、Johnson et al. (1993)を参照\n",
    "    ----------------------------------------------------------------------------------------\n",
    "    <input>\n",
    "    ・params: パラメータ等を含む構造体\n",
    "    <output>\n",
    "    ・vfcn0: 計算によって得られた価値関数\n",
    "    ・pfcn0: 計算によって得られた政策関数\n",
    "    \"\"\"\n",
    "\n",
    "    # 政策関数の当て推量\n",
    "    pfcn0 = 0.5*(params.kgrid**params.α + (1-params.δ)*params.kgrid)\n",
    "\n",
    "    # 当て推量の下での価値関数\n",
    "    vfcn0 = IterateValue(1000, params, pfcn0)\n",
    "\n",
    "    # 価値関数・政策関数を初期化\n",
    "    pfcn1 = np.zeros(params.nk)\n",
    "    vfcn1 = np.zeros(params.nk)\n",
    "\n",
    "    # 価値関数を繰り返し計算\n",
    "    for it in range(params.maxit):\n",
    "\n",
    "        # 次期の価値関数を補間\n",
    "        vnext = interp1d(params.kgrid,vfcn0,kind=\"cubic\",fill_value=\"extrapolate\") # スプライン補間\n",
    "\n",
    "        for i in range(params.nk):\n",
    "\n",
    "            BellmanEq = lambda kprime: BellmanEq2(params, wealth[i], kprime, vnext)\n",
    "            pfcn1[i] = golden(BellmanEq,brack=(0.0,wealth[i]-1e-10)) # 最適化\n",
    "    \n",
    "        # 新たな政策関数を使って価値関数をアップデート\n",
    "        vfcn1 = IterateValue(1000, params, pfcn1)\n",
    "\n",
    "        dif1 = np.max(np.abs((vfcn1 - vfcn0)/vfcn0)) # 価値関数の繰り返し計算誤差\n",
    "        dif2 = np.max(np.abs((pfcn1 - pfcn0)/pfcn0)) # 政策関数の繰り返し計算誤差(図示のため)\n",
    "\n",
    "        vfcn0 = np.copy(vfcn1)\n",
    "        pfcn0 = np.copy(pfcn1)\n",
    "\n",
    "        print(f\"iteration counter: {it+1}\")\n",
    "        print(f\"error (value): {dif1:.17f}\")\n",
    "        print(f\"error (policy): {dif2:.17f}\")\n",
    "        print(\"\")\n",
    "\n",
    "        if dif1 < params.tol:\n",
    "            break\n",
    "\n",
    "        if it == params.maxit-1:\n",
    "            print(\"The model does not converge...\")\n",
    "    \n",
    "    return vfcn0, pfcn0"
   ]
  },
  {
   "cell_type": "markdown",
   "metadata": {},
   "source": [
    "#### 計算結果\n",
    "* もともと計算時間はそんなにかかっていなかったが、VFIより計算速度がアップしている\n",
    "* なにより、繰り返し計算が2回に短縮している"
   ]
  },
  {
   "cell_type": "code",
   "execution_count": 41,
   "metadata": {},
   "outputs": [
    {
     "name": "stdout",
     "output_type": "stream",
     "text": [
      "iteration counter: 1\n",
      "error (value): 0.03856478820076882\n",
      "error (policy): 0.23200083684732509\n",
      "\n",
      "iteration counter: 2\n",
      "error (value): 0.00000000000000205\n",
      "error (policy): 0.00000023401030520\n",
      "\n",
      "4.092255 seconds\n"
     ]
    }
   ],
   "source": [
    "start = time.time()\n",
    "vfcn0, pfcn0 = pfi(params)\n",
    "end = time.time()\n",
    "\n",
    "print(f\"{end-start:.6f} seconds\")"
   ]
  },
  {
   "cell_type": "markdown",
   "metadata": {},
   "source": [
    "---"
   ]
  },
  {
   "cell_type": "code",
   "execution_count": 42,
   "metadata": {},
   "outputs": [],
   "source": [
    "# 最終的な政策関数が得られてから消費関数を計算\n",
    "wealth = params.kgrid**params.α + (1-params.δ)*params.kgrid\n",
    "cfcn = wealth - pfcn0"
   ]
  },
  {
   "cell_type": "code",
   "execution_count": 43,
   "metadata": {},
   "outputs": [],
   "source": [
    "# 政策関数を使って収束した価値関数を計算\n",
    "util = np.zeros(params.nk)\n",
    "valfn = np.zeros(params.nk)\n",
    "\n",
    "for i in range(params.nk):\n",
    "\n",
    "    cons = params.kgrid[i]**params.α + (1-params.δ)*params.kgrid[i] - pfcn0[i]\n",
    "    util[i] = MyEconFcn.crra(cons, params.γ)\n",
    "    valfn[i] = util[i] / (1-params.β)"
   ]
  },
  {
   "cell_type": "code",
   "execution_count": 44,
   "metadata": {},
   "outputs": [],
   "source": [
    "# 解析解\n",
    "AA = (1-params.β)**(-1) * (np.log(1-params.α*params.β) + ((params.α*params.β)/(1-params.α*params.β))*np.log(params.α*params.β))\n",
    "BB = params.α / (1 - params.α*params.β)\n",
    "v_true = AA+ BB*np.log(params.kgrid)\n",
    "p_true = params.α*params.β*(params.kgrid**params.α);"
   ]
  },
  {
   "cell_type": "markdown",
   "metadata": {},
   "source": [
    "---"
   ]
  },
  {
   "cell_type": "markdown",
   "metadata": {},
   "source": [
    "# プロット"
   ]
  },
  {
   "cell_type": "code",
   "execution_count": 53,
   "metadata": {},
   "outputs": [
    {
     "data": {
      "image/png": "[encoded data removed]",
      "text/plain": [
       "<Figure size 576x432 with 1 Axes>"
      ]
     },
     "metadata": {
      "needs_background": "light"
     },
     "output_type": "display_data"
    }
   ],
   "source": [
    "fig, ax = plt.subplots(figsize=(8,6))\n",
    "ax.plot(params.kgrid,valfn,c=\"b\",lw=4)\n",
    "ax.set(xlabel=\"現在の資本:k\",ylabel=\"価値関数:V(k)\")\n",
    "ax.grid(ls=\"--\")\n",
    "plt.show()"
   ]
  },
  {
   "cell_type": "code",
   "execution_count": 54,
   "metadata": {},
   "outputs": [
    {
     "data": {
      "image/png": "[encoded data removed]",
      "text/plain": [
       "<Figure size 576x432 with 1 Axes>"
      ]
     },
     "metadata": {
      "needs_background": "light"
     },
     "output_type": "display_data"
    }
   ],
   "source": [
    "fig, ax = plt.subplots(figsize=(8,6))\n",
    "ax.plot(params.kgrid,pfcn0,c=\"b\",lw=4,label=\"近似解\")\n",
    "ax.plot(params.kgrid,p_true,c=\"b\",lw=1,label=\"解析的解\")\n",
    "ax.plot(params.kgrid,params.kgrid,ls=\"--\",c=\"k\",lw=3,label=\"45度線\")\n",
    "ax.set(xlabel=\"現在の資本:k\",ylabel=\"次期の資本:k'=g(k)\")\n",
    "ax.legend(loc=\"upper left\")\n",
    "ax.grid(ls=\"--\")\n",
    "plt.show()"
   ]
  },
  {
   "cell_type": "markdown",
   "metadata": {},
   "source": [
    "---"
   ]
  },
  {
   "cell_type": "markdown",
   "metadata": {},
   "source": [
    "## エクササイズ\n",
    "* グリッドを増やして、VFIとPFIの速度比較をしてみよう。"
   ]
  },
  {
   "cell_type": "code",
   "execution_count": null,
   "metadata": {},
   "outputs": [],
   "source": []
  }
 ],
 "metadata": {
  "kernelspec": {
   "display_name": "Python 3.10.7 64-bit (microsoft store)",
   "language": "python",
   "name": "python3"
  },
  "language_info": {
   "codemirror_mode": {
    "name": "ipython",
    "version": 3
   },
   "file_extension": ".py",
   "mimetype": "text/x-python",
   "name": "python",
   "nbconvert_exporter": "python",
   "pygments_lexer": "ipython3",
   "version": "3.10.7"
  },
  "orig_nbformat": 4,
  "vscode": {
   "interpreter": {
    "hash": "8c6898038bf0d33ed7a025b08fa525581dc388d7226b0a2bb1e5e50f2e913213"
   }
  }
 },
 "nbformat": 4,
 "nbformat_minor": 2
}
